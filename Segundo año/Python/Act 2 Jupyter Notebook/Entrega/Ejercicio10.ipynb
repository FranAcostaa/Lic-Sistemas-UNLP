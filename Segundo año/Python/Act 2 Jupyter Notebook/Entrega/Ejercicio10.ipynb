{
 "cells": [
  {
   "cell_type": "markdown",
   "metadata": {},
   "source": [
    "### EJERCICIO 10 | ENUNCIADO\n",
    "\n",
    "**Un club de hockey posee las estadísticas de todxs sus jugadorxs de la última temporada jugada del torneo de hockey mixto. Poseen una lista con los nombres, otra con los goles a favor, otra con los goles evitados y la última con las asistencias realizadas. El club está por otorgar los premios de cierre de temporada y necesita:**\n",
    "1. Generar una estructura todas las estadísticas asociadas a cada jugador o\n",
    "jugadora.\n",
    "2. Conocer el nombre y la cantidad de goles del goleador o goleadora.\n",
    "3. Conocer el nombre del jugador o jugadora más influyente, esto se consigue sumando goles a favor, goles evitados y cantidad de asistencias. La particularidad es que los goles a favor, evitados y las asistencias NO valen lo mismo (es un promedio ponderado):\n",
    "4. Conocer el promedio de goles por partido del equipo en general. Dato: Se jugaron 25 partidos en la temporada.\n",
    "5. Conocer el promedio de goles por partido del goleador o goleadora. Dato: Se jugaron 25 partidos en la temporada."
   ]
  },
  {
   "cell_type": "markdown",
   "metadata": {},
   "source": [
    "Declaro las variables"
   ]
  },
  {
   "cell_type": "code",
   "execution_count": 1,
   "metadata": {},
   "outputs": [],
   "source": [
    "names = ['Agustin','Yanina','Andrés','Ariadna','Bautista','CAROLINA','CESAR','David','Diego','Dolores','DYLAN','ELIANA','Emanuel','Fabián','Noelia','Francsica','FEDERICO','Fernanda','GONZALO','Nancy']\n",
    "goals = [0, 10, 4, 0, 5, 14, 0, 0, 7, 2, 1, 1, 1, 5, 6, 1, 1, 2, 0, 11]\n",
    "goals_avoided = [0, 2, 0, 0, 5, 2, 0, 0, 1, 2, 0, 5, 5, 0, 1, 0, 2, 3, 0, 0]\n",
    "assists = [0, 5, 1, 0, 5, 2, 0, 0, 1, 2, 1, 5, 5, 0, 1, 0, 2, 3, 1, 0]"
   ]
  },
  {
   "cell_type": "markdown",
   "metadata": {},
   "source": [
    "Resuelvo"
   ]
  },
  {
   "cell_type": "code",
   "execution_count": 2,
   "metadata": {},
   "outputs": [
    {
     "name": "stdout",
     "output_type": "stream",
     "text": [
      "Structure: {'Agustin': (0, 0, 0), 'Yanina': (10, 2, 5), 'Andrés': (4, 0, 1), 'Ariadna': (0, 0, 0), 'Bautista': (5, 5, 5), 'CAROLINA': (14, 2, 2), 'CESAR': (0, 0, 0), 'David': (0, 0, 0), 'Diego': (7, 1, 1), 'Dolores': (2, 2, 2), 'DYLAN': (1, 0, 1), 'ELIANA': (1, 5, 5), 'Emanuel': (1, 5, 5), 'Fabián': (5, 0, 0), 'Noelia': (6, 1, 1), 'Francsica': (1, 0, 0), 'FEDERICO': (1, 2, 2), 'Fernanda': (2, 3, 3), 'GONZALO': (0, 0, 1), 'Nancy': (11, 0, 0)}\n",
      "The scorer is CAROLINA who scored 14 goals\n",
      "The most influencial player is CAROLINA\n",
      "The teams average goals per game is 2.84\n",
      "The scorer average goals per game is <function goal_average_scorer.<locals>.<lambda> at 0x000001A45601ECA0>\n"
     ]
    }
   ],
   "source": [
    "from utils2 import functions2\n",
    "\n",
    "structure = functions2.create_structure(names, goals, goals_avoided, assists)\n",
    "name_scorer, goals_scorer = functions2.max_goals(structure)\n",
    "most_influencial = functions2.most_influential(structure)\n",
    "goals_average = functions2.goal_average(structure)\n",
    "goals_average_scorer = functions2.goal_average_scorer(structure[name_scorer])\n",
    "\n",
    "print(f\"Structure: {structure}\")\n",
    "print(f\"The scorer is {name_scorer} who scored {goals_scorer} goals\")\n",
    "print(f\"The most influencial player is {most_influencial}\")\n",
    "print(f\"The teams average goals per game is {goals_average}\")\n",
    "print(f\"The scorer average goals per game is {goals_average_scorer}\")"
   ]
  }
 ],
 "metadata": {
  "kernelspec": {
   "display_name": "venv",
   "language": "python",
   "name": "python3"
  },
  "language_info": {
   "codemirror_mode": {
    "name": "ipython",
    "version": 3
   },
   "file_extension": ".py",
   "mimetype": "text/x-python",
   "name": "python",
   "nbconvert_exporter": "python",
   "pygments_lexer": "ipython3",
   "version": "3.11.0"
  }
 },
 "nbformat": 4,
 "nbformat_minor": 2
}
